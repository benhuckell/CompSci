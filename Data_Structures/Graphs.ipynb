{
 "metadata": {
  "language_info": {
   "codemirror_mode": {
    "name": "ipython",
    "version": 3
   },
   "file_extension": ".py",
   "mimetype": "text/x-python",
   "name": "python",
   "nbconvert_exporter": "python",
   "pygments_lexer": "ipython3",
   "version": 3
  },
  "orig_nbformat": 2
 },
 "nbformat": 4,
 "nbformat_minor": 2,
 "cells": [
  {
   "cell_type": "code",
   "execution_count": null,
   "metadata": {},
   "outputs": [],
   "source": [
    "\"\"\" Node is defined as\n",
    "class node:\n",
    "    def __init__(self, data):\n",
    "        self.data = data\n",
    "        self.left = None\n",
    "        self.right = None\n",
    "\"\"\"\n",
    "\n",
    "\"\"\"\n",
    "Check if a given tree is classified as a binary search tree\n",
    "\"\"\"\n",
    "def checkBST(root):\n",
    "    visited = set()\n",
    "    minVal = None\n",
    "    maxVal = None\n",
    "    \n",
    "    status = dfs(root, minVal, maxVal, visited, True)\n",
    "    \n",
    "    return status\n",
    "\n",
    "\n",
    "def dfs(node, minVal, maxVal, visited, status):\n",
    "    \n",
    "    if(node.data in visited):\n",
    "        return False\n",
    "    \n",
    "    visited.add(node.data)\n",
    "    \n",
    "    if(node.left is not None):\n",
    "        if(checkCondition(minVal,node.data,node.left)):\n",
    "            status = dfs(node.left, minVal, node.data, visited, status)\n",
    "        else:\n",
    "            return False\n",
    "    \n",
    "    if(node.right is not None):\n",
    "        if(checkCondition(node.data,maxVal,node.right)):\n",
    "            status = dfs(node.right, node.data, maxVal, visited, status)\n",
    "        else:\n",
    "            return False\n",
    "    \n",
    "    return status\n",
    "        \n",
    "        \n",
    "        \n",
    "def checkCondition(minVal, maxVal, node):\n",
    "    if((minVal is None) or (minVal is not None and node.data > minVal)):\n",
    "        if((maxVal is None) or (maxVal is not None and node.data < maxVal)):\n",
    "            return True\n",
    "        \n",
    "    return False"
   ]
  }
 ]
}