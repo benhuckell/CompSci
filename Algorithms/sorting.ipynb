{
 "metadata": {
  "language_info": {
   "codemirror_mode": {
    "name": "ipython",
    "version": 3
   },
   "file_extension": ".py",
   "mimetype": "text/x-python",
   "name": "python",
   "nbconvert_exporter": "python",
   "pygments_lexer": "ipython3",
   "version": 3
  },
  "orig_nbformat": 2
 },
 "nbformat": 4,
 "nbformat_minor": 2,
 "cells": [
  {
   "cell_type": "code",
   "execution_count": null,
   "metadata": {},
   "outputs": [],
   "source": [
    "'''\n",
    "This is the slowest implementation of a bubble sort. We can speed it up by only continuing iterations through i if a sort actually took place in the previous iteration.\n",
    "'''\n",
    "def slowBubbleSort(a):\n",
    "    swaps = 0\n",
    "    for i in range(len(a)):\n",
    "        for j in range(len(a)-1):\n",
    "            if(a[j] > a[j+1]):\n",
    "                swaps += 1\n",
    "                a[j], a[j+1] = a[j+1], a[j]\n",
    "\n",
    "    return a"
   ]
  }
 ]
}