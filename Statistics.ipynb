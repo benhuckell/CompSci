{
 "metadata": {
  "language_info": {
   "codemirror_mode": {
    "name": "ipython",
    "version": 3
   },
   "file_extension": ".py",
   "mimetype": "text/x-python",
   "name": "python",
   "nbconvert_exporter": "python",
   "pygments_lexer": "ipython3",
   "version": "3.6.8-final"
  },
  "orig_nbformat": 2,
  "kernelspec": {
   "name": "Python 3.6.8 64-bit",
   "display_name": "Python 3.6.8 64-bit",
   "metadata": {
    "interpreter": {
     "hash": "1c07045a52bc289f478620078fc3406c00f13f88add91e209d491200c2dd3f38"
    }
   }
  }
 },
 "nbformat": 4,
 "nbformat_minor": 2,
 "cells": [
  {
   "cell_type": "code",
   "execution_count": null,
   "metadata": {},
   "outputs": [],
   "source": [
    "#Calculate Standard Deviation of an array\n",
    "def calculateStandardDeviation(array):\n",
    "    n = len(array)\n",
    "    mean = sum(arr)/n\n",
    "\n",
    "    sumResidualsSquared = 0\n",
    "    for num in arr:\n",
    "        sumResidualsSquared += (float(num)-mean)**2\n",
    "\n",
    "    stdDev = math.sqrt(sumResidualsSquared/n)\n",
    "    return stdDev"
   ]
  },
  {
   "cell_type": "code",
   "execution_count": null,
   "metadata": {},
   "outputs": [],
   "source": [
    "# Enter your code here. Read input from STDIN. Print output to STDOUT\n",
    "import math\n",
    "contents = []\n",
    "while True:\n",
    "    try:\n",
    "        line = input()\n",
    "    except EOFError:\n",
    "        break\n",
    "    contents.append(line)\n",
    "\n",
    "\n",
    "n = int(contents[0])\n",
    "\n",
    "arr = [int(num) for num in contents[1].split(\" \")]"
   ]
  },
  {
   "cell_type": "code",
   "execution_count": null,
   "metadata": {},
   "outputs": [],
   "source": [
    "#Get median of an array\n",
    "#Get median index of an array:\n",
    "#   - will return whole number float index if odd n\n",
    "#   - will return float (.5) index if even n\n",
    "#Returns (medianIndex, median)\n",
    "def getMedian(arr):\n",
    "    n = len(arr)\n",
    "    arr = sorted(arr)\n",
    "\n",
    "    if(n%2==0): #even number of elements\n",
    "        median = (arr[int(n/2)-1]+arr[int(n/2)])/2\n",
    "    else:\n",
    "        median = arr[int(n/2)]\n",
    "\n",
    "    return (n/2,median)\n",
    "\n",
    "\n",
    "#Get any desired quartile from an array\n",
    "def getQuartile(arr,quartile):\n",
    "    n = len(arr)\n",
    "    arr = sorted(arr)\n",
    "\n",
    "    medianInfo = getMedian(arr)\n",
    "    medianIndex = medianInfo[0]\n",
    "    medianVal = medianInfo[1]\n",
    "\n",
    "    #print(medianInfo)\n",
    "\n",
    "    if(quartile == 2):\n",
    "        return median\n",
    "\n",
    "    #Split array at median \n",
    "    if(medianVal%2==0):\n",
    "        lowerArr = arr[:int(medianIndex)]\n",
    "        higherArr = arr[int(medianIndex)+1:]\n",
    "    else:\n",
    "        lowerArr = arr[:int(medianIndex)+1]\n",
    "        higherArr = arr[int(medianIndex)+1:]\n",
    "\n",
    "    q1 = getMedian(lowerArr)[1]\n",
    "    q3 = getMedian(higherArr)[1]\n",
    "\n",
    "    if(quartile == 1):\n",
    "        return q1\n",
    "\n",
    "    if(quartile == 3):\n",
    "        return q3\n",
    "\n",
    "    return \"Invalid quartile number provided\""
   ]
  },
  {
   "cell_type": "code",
   "execution_count": null,
   "metadata": {},
   "outputs": [],
   "source": [
    "import math\n",
    "\n",
    "#Calculates probability of no more than \"successes\" in the number of trials provided.\n",
    "#For example, prob of no more than 2 successes in 6 trials would enter binomialCDF(2,6,p)\n",
    "def binomialCDF(successes, trials, p):\n",
    "    prob = 0\n",
    "\n",
    "    for successNum in range(successes+1):\n",
    "        combs = int((math.factorial(trials))/((math.factorial(successNum))*math.factorial(trials-successNum)))\n",
    "\n",
    "        prob += combs*(p)**successNum*(1-p)**(trials - successNum)\n",
    "\n",
    "    return prob"
   ]
  },
  {
   "cell_type": "code",
   "execution_count": 21,
   "metadata": {},
   "outputs": [
    {
     "output_type": "stream",
     "name": "stdout",
     "text": [
      "[[1. 2. 4.]\n [4. 3. 1.]\n [7. 1. 2.]]\n"
     ]
    }
   ],
   "source": [
    "import numpy as np \n",
    "\n",
    "after = np.array([[1,3,7],[5,10,15],[12,18,25]])\n",
    "\n",
    "before = np.zeros(shape = (3,3))\n",
    "\n",
    "n = 3\n",
    "m = 3\n",
    "\n",
    "for x in range(n):\n",
    "    for y in range(m):\n",
    "        #print(before,\"\\n\")\n",
    "        beforeSum = before[:x+1,:y+1]\n",
    "        #print(beforeSum,\"\\n\")\n",
    "        before[x][y] = after[x,y] - sum(map(sum, beforeSum))\n",
    "\n",
    "print(before)\n"
   ]
  },
  {
   "cell_type": "code",
   "execution_count": null,
   "metadata": {},
   "outputs": [],
   "source": []
  }
 ]
}